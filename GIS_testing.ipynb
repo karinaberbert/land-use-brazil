{
 "cells": [
  {
   "cell_type": "markdown",
   "id": "d22caf20-4c8b-49b1-8596-30f387103ce7",
   "metadata": {},
   "source": [
    "### GIS Process"
   ]
  },
  {
   "cell_type": "code",
   "execution_count": 4,
   "id": "8427fc49-4c4d-4baf-bfc3-762766c49973",
   "metadata": {},
   "outputs": [
    {
     "name": "stdout",
     "output_type": "stream",
     "text": [
      "Rasterio version: 1.2.6\n",
      "fiona version: 1.8.20\n"
     ]
    }
   ],
   "source": [
    "# Libraries\n",
    "\n",
    "import rasterio\n",
    "from rasterio.features import shapes\n",
    "from rasterio.mask import mask as mask\n",
    "from rasterio.plot import show\n",
    "from rasterio.warp import calculate_default_transform, reproject, Resampling\n",
    "from rasterio.features import shapes\n",
    "from rasterio.plot import show \n",
    "from shapely.geometry import shape\n",
    "import numpy as np\n",
    "import fiona\n",
    "import pandas as pd\n",
    "import geopandas as gpd\n",
    "import matplotlib.pyplot as plt\n",
    "import seaborn as sns\n",
    "import os\n",
    "from osgeo import gdal\n",
    "from matplotlib_scalebar.scalebar import ScaleBar\n",
    "import matplotlib.patches as mpatches\n",
    "import seaborn as sns\n",
    "\n",
    "print(f'Rasterio version: {rasterio.__version__}')\n",
    "print(f'fiona version: {fiona.__version__}')"
   ]
  },
  {
   "cell_type": "code",
   "execution_count": 3,
   "id": "d478cd4a-47da-4eac-9245-b3a587699d7d",
   "metadata": {},
   "outputs": [],
   "source": [
    "# Defining variables and paths:\n",
    "\n",
    "YEAR = 2020\n",
    "ROI = 'Area'\n",
    "\n",
    "ROI_SHAPE = \"data/file.shp\"\n",
    "ROI_LUC = f\"data/file.tif\"\n",
    "ROI_SCAR = f\"data/file.tif\"\n",
    "\n",
    "\n",
    "export_tif_path_luc = f\"data/MOSAICO_{YEAR}_LUC_{ROI}.tif\"\n",
    "export_shp_path_luc = f\"data/MOSAICO_{YEAR}_LUC_{ROI}.shp\"\n",
    "export_tif_path_scar = f\"data/MOSAICO_{YEAR}_{ROI}.tif\""
   ]
  },
  {
   "cell_type": "code",
   "execution_count": null,
   "id": "b31c4470-dbaa-4044-a785-b5ab50b8195c",
   "metadata": {},
   "outputs": [],
   "source": []
  }
 ],
 "metadata": {
  "kernelspec": {
   "display_name": "Python 3 (ipykernel)",
   "language": "python",
   "name": "python3"
  },
  "language_info": {
   "codemirror_mode": {
    "name": "ipython",
    "version": 3
   },
   "file_extension": ".py",
   "mimetype": "text/x-python",
   "name": "python",
   "nbconvert_exporter": "python",
   "pygments_lexer": "ipython3",
   "version": "3.9.6"
  }
 },
 "nbformat": 4,
 "nbformat_minor": 5
}
