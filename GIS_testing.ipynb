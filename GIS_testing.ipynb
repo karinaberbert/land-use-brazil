{
 "cells": [
  {
   "cell_type": "markdown",
   "id": "d22caf20-4c8b-49b1-8596-30f387103ce7",
   "metadata": {},
   "source": [
    "### GIS Process"
   ]
  },
  {
   "cell_type": "code",
   "execution_count": 4,
   "id": "8427fc49-4c4d-4baf-bfc3-762766c49973",
   "metadata": {},
   "outputs": [
    {
     "name": "stdout",
     "output_type": "stream",
     "text": [
      "Rasterio version: 1.2.6\n",
      "fiona version: 1.8.20\n"
     ]
    }
   ],
   "source": [
    "# Libraries\n",
    "\n",
    "import rasterio\n",
    "from rasterio.features import shapes\n",
    "from rasterio.mask import mask as mask\n",
    "from rasterio.plot import show\n",
    "from rasterio.warp import calculate_default_transform, reproject, Resampling\n",
    "from rasterio.features import shapes\n",
    "from rasterio.plot import show \n",
    "from shapely.geometry import shape\n",
    "import numpy as np\n",
    "import fiona\n",
    "import pandas as pd\n",
    "import geopandas as gpd\n",
    "import matplotlib.pyplot as plt\n",
    "import seaborn as sns\n",
    "import os\n",
    "from osgeo import gdal\n",
    "from matplotlib_scalebar.scalebar import ScaleBar\n",
    "import matplotlib.patches as mpatches\n",
    "import seaborn as sns\n",
    "\n",
    "print(f'Rasterio version: {rasterio.__version__}')\n",
    "print(f'fiona version: {fiona.__version__}')"
   ]
  },
  {
   "cell_type": "code",
   "execution_count": 3,
   "id": "d478cd4a-47da-4eac-9245-b3a587699d7d",
   "metadata": {},
   "outputs": [],
   "source": [
    "# Defining variables and paths:\n",
    "\n",
    "YEAR = 2020\n",
    "ROI = 'Area'\n",
    "\n",
    "ROI_SHAPE = \"data/file.shp\"\n",
    "ROI_LUC = f\"data/file.tif\"\n",
    "ROI_SCAR = f\"data/file.tif\"\n",
    "\n",
    "\n",
    "export_tif_path_luc = f\"data/MOSAICO_{YEAR}_LUC_{ROI}.tif\"\n",
    "export_shp_path_luc = f\"data/MOSAICO_{YEAR}_LUC_{ROI}.shp\"\n",
    "export_tif_path_scar = f\"data/MOSAICO_{YEAR}_{ROI}.tif\""
   ]
  },
  {
   "cell_type": "code",
   "execution_count": 5,
   "id": "b31c4470-dbaa-4044-a785-b5ab50b8195c",
   "metadata": {},
   "outputs": [],
   "source": [
    "def cropa_tif_from_shp(shp_path, tif_path, export_tif_path):\n",
    "    print(f'- Cropando {tif_path} com {shp_path}')\n",
    "    with fiona.open(shp_path, \"r\") as shapefile:\n",
    "        roi_shapes = [feature[\"geometry\"] for feature in shapefile]\n",
    "    \n",
    "    tif_open = rasterio.open(tif_path)\n",
    "    masked_tif, masked_tif_transform = rasterio.mask.mask(tif_open, roi_shapes, crop=True) \n",
    "    scar_meta = tif_open.meta\n",
    "    \n",
    "    scar_meta.update({ \n",
    "                 \"height\": masked_tif.shape[1],\n",
    "                 \"width\": masked_tif.shape[2],\n",
    "                 \"transform\": masked_tif_transform,\n",
    "                 \"nodata\": 0})\n",
    "    \n",
    "    tif_result = np.where(masked_tif==256, 0, masked_tif)\n",
    "    \n",
    "    print(f'Salvando em {export_tif_path}\\n')\n",
    "    with rasterio.open(export_tif_path, \"w\", **scar_meta) as dest:\n",
    "        dest.write(tif_result)"
   ]
  },
  {
   "cell_type": "code",
   "execution_count": null,
   "id": "f38d77d2-9183-4805-b336-188f028a6617",
   "metadata": {},
   "outputs": [],
   "source": [
    "# Clip LUC por ROI\n",
    "cropa_tif_from_shp(ROI_SHAPE, ROI_LUC, export_tif_path_luc)"
   ]
  },
  {
   "cell_type": "code",
   "execution_count": null,
   "id": "7b30c7b1-da2f-4253-943b-dc91851728ce",
   "metadata": {},
   "outputs": [],
   "source": [
    "# LUC and ROI\n",
    "luc_open = rasterio.open(export_tif_path_luc)\n",
    "\n",
    "# LUC variable\n",
    "luc_roi = luc_open.read(1)"
   ]
  },
  {
   "cell_type": "code",
   "execution_count": null,
   "id": "aec2a7e4-6174-4e08-9876-1d9d3f921a4a",
   "metadata": {},
   "outputs": [],
   "source": [
    "# Visualizing land use and cover raster file (Region of Interest):\n",
    "\n",
    "show(luc_open, transform=luc_open.transform, cmap='viridis')"
   ]
  },
  {
   "cell_type": "code",
   "execution_count": 6,
   "id": "323fe66f-e0f5-4146-8ee8-01f0aaae725c",
   "metadata": {},
   "outputs": [],
   "source": [
    "# Defining poligonize function\n",
    "\n",
    "def poligoniza(tiff_path, shp_path):\n",
    "    cmd_command = f'gdal_polygonize.py {tiff_path} {shp_path}'\n",
    "    print(f'- Poligonizando {tiff_path} -> {shp_path}')\n",
    "    os.system(cmd_command)\n",
    "    print('')"
   ]
  },
  {
   "cell_type": "code",
   "execution_count": 7,
   "id": "08f1b0ea-9d5e-4cd9-87d3-0de5a2c74df6",
   "metadata": {},
   "outputs": [],
   "source": [
    "# Defining clip and poligonize function\n",
    "\n",
    "def cropa_e_poligoniza(input_shp_path, input_tif_path, output_shp_path):\n",
    "    crop_tif_path = output_shp_path.replace('.shp', '.tif')\n",
    "    cropa_tif_from_shp(input_shp_path, input_tif_path, crop_tif_path)\n",
    "    poligoniza(crop_tif_path, output_shp_path)"
   ]
  },
  {
   "cell_type": "code",
   "execution_count": null,
   "id": "17c5ee6c-2ee2-47e2-a9d9-0c8220ff1514",
   "metadata": {},
   "outputs": [],
   "source": [
    "# Cliping and poligonizing function\n",
    "\n",
    "cropa_e_poligoniza(ROI_SHAPE, ROI_LUC, export_shp_path_luc)"
   ]
  },
  {
   "cell_type": "code",
   "execution_count": null,
   "id": "392851de-abd2-4921-a2cb-ce14526e1427",
   "metadata": {},
   "outputs": [],
   "source": [
    "# Conversion TIF to SHP\n",
    "def tif_to_shp (tif_path, shape_path):\n",
    "    print (f'Convertendo {tif_path} para {shape_path}')\n",
    "    os.system(\"gdal_polygonize.py data/MOSAICO_..._.tif data/MOSAICO_2020_....shp -f 'ESRI Shapefile'\")"
   ]
  },
  {
   "cell_type": "code",
   "execution_count": null,
   "id": "1d047c00-1335-4eb5-9047-c05f33f6d90c",
   "metadata": {},
   "outputs": [],
   "source": [
    "tif_to_shp(export_tif_path_luc, export_shp_path_luc)"
   ]
  }
 ],
 "metadata": {
  "kernelspec": {
   "display_name": "Python 3 (ipykernel)",
   "language": "python",
   "name": "python3"
  },
  "language_info": {
   "codemirror_mode": {
    "name": "ipython",
    "version": 3
   },
   "file_extension": ".py",
   "mimetype": "text/x-python",
   "name": "python",
   "nbconvert_exporter": "python",
   "pygments_lexer": "ipython3",
   "version": "3.9.6"
  }
 },
 "nbformat": 4,
 "nbformat_minor": 5
}
