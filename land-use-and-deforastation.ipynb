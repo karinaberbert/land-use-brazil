{
 "cells": [
  {
   "cell_type": "markdown",
   "id": "99341ea9-ba57-48e4-af38-5a1be0d4a24b",
   "metadata": {},
   "source": [
    "## Land use and cover changes under deforastation\n",
    "\n",
    "### Amazon and Cerrado Biomes"
   ]
  },
  {
   "cell_type": "code",
   "execution_count": 9,
   "id": "92866d2b-3506-4a95-937a-e8e87c4c65dd",
   "metadata": {},
   "outputs": [
    {
     "name": "stdout",
     "output_type": "stream",
     "text": [
      "Rasterio version: 1.2.6\n",
      "fiona version: 1.8.20\n"
     ]
    }
   ],
   "source": [
    "# Importing Packeges\n",
    "\n",
    "import rasterio\n",
    "from rasterio.features import shapes\n",
    "from rasterio.mask import mask as mask\n",
    "from rasterio.plot import show\n",
    "from rasterio.warp import calculate_default_transform, reproject, Resampling\n",
    "from rasterio.features import shapes\n",
    "from rasterio.plot import show \n",
    "from shapely.geometry import shape\n",
    "import numpy as np\n",
    "import fiona\n",
    "import pandas as pd\n",
    "import geopandas as gpd\n",
    "import matplotlib.pyplot as plt\n",
    "import seaborn as sns\n",
    "import os\n",
    "from osgeo import gdal\n",
    "from matplotlib_scalebar.scalebar import ScaleBar\n",
    "import matplotlib.patches as mpatches\n",
    "import seaborn as sns\n",
    "\n",
    "print(f'Rasterio version: {rasterio.__version__}')\n",
    "print(f'fiona version: {fiona.__version__}')"
   ]
  },
  {
   "cell_type": "markdown",
   "id": "5c053be5-b793-4075-87be-a0a78c4e1482",
   "metadata": {},
   "source": [
    "#### Reading paths and files"
   ]
  },
  {
   "cell_type": "code",
   "execution_count": 14,
   "id": "8089131a-24bb-4ca5-a7ec-2a4a29ef112c",
   "metadata": {},
   "outputs": [],
   "source": [
    "# Defining variables and paths: \n",
    "YEAR = 2020\n",
    "ROI = 'Agricultural-Expansion'\n",
    "\n",
    "ROI_SHAPE = \"data/desmatamento_bioma_amz_PRODES_2020.shp\"\n",
    "ROI_LUC = f\"data/LUC_mapbiomas-brazil-collection-7-matogrosso-2020-projetado-SIRGAS2000.tif\"\n",
    "\n",
    "export_tif_path_luc = f\"data/image_{YEAR}_LUC_{ROI}.tif\""
   ]
  },
  {
   "cell_type": "code",
   "execution_count": 15,
   "id": "562f355d-dd0b-4b7c-9576-29978b60dc6c",
   "metadata": {},
   "outputs": [],
   "source": [
    "# Defining clip function\n",
    "\n",
    "def cropa_tif_from_shp(shp_path, tif_path, export_tif_path):\n",
    "    print(f'- Cropando {tif_path} com {shp_path}')\n",
    "    with fiona.open(shp_path, \"r\") as shapefile:\n",
    "        roi_shapes = [feature[\"geometry\"] for feature in shapefile]\n",
    "    \n",
    "    tif_open = rasterio.open(tif_path)\n",
    "    masked_tif, masked_tif_transform = rasterio.mask.mask(tif_open, roi_shapes, crop=True) \n",
    "    scar_meta = tif_open.meta\n",
    "    \n",
    "    scar_meta.update({ \n",
    "                 \"height\": masked_tif.shape[1],\n",
    "                 \"width\": masked_tif.shape[2],\n",
    "                 \"transform\": masked_tif_transform,\n",
    "                 \"nodata\": 0})\n",
    "    \n",
    "    tif_result = np.where(masked_tif==256, 0, masked_tif)\n",
    "    \n",
    "    print(f'Salvando em {export_tif_path}\\n')\n",
    "    with rasterio.open(export_tif_path, \"w\", **scar_meta) as dest:\n",
    "        dest.write(tif_result)"
   ]
  },
  {
   "cell_type": "code",
   "execution_count": 16,
   "id": "abc56d9b-d4c8-42d8-b747-14275252cfa6",
   "metadata": {},
   "outputs": [
    {
     "name": "stdout",
     "output_type": "stream",
     "text": [
      "- Cropando data/LUC_mapbiomas-brazil-collection-7-matogrosso-2020-projetado-SIRGAS2000.tif com data/desmatamento_bioma_amz_PRODES_2020.shp\n",
      "Salvando em data/image_2020_LUC_Agricultural-Expansion.tif\n",
      "\n"
     ]
    }
   ],
   "source": [
    "cropa_tif_from_shp(ROI_SHAPE, ROI_LUC, export_tif_path_luc)"
   ]
  },
  {
   "cell_type": "code",
   "execution_count": 17,
   "id": "eb50fff2-d58e-4e0a-855f-dc892a49d332",
   "metadata": {},
   "outputs": [
    {
     "name": "stdout",
     "output_type": "stream",
     "text": [
      "<class 'rasterio.io.DatasetReader'>\n",
      "[[0 0 0 ... 0 0 0]\n",
      " [0 0 0 ... 0 0 0]\n",
      " [0 0 0 ... 0 0 0]\n",
      " ...\n",
      " [0 0 0 ... 0 0 0]\n",
      " [0 0 0 ... 0 0 0]\n",
      " [0 0 0 ... 0 0 0]]\n"
     ]
    }
   ],
   "source": [
    "# ROI LUC\n",
    "luc_open = rasterio.open(export_tif_path_luc)\n",
    "\n",
    "# Data type:\n",
    "print(type(luc_open))\n",
    "\n",
    "# LUC ROI variable\n",
    "luc_roi = luc_open.read(1)\n",
    "print(luc_roi)"
   ]
  },
  {
   "cell_type": "code",
   "execution_count": 18,
   "id": "3f71e691-0999-4df6-99c5-4e69ccb01aa1",
   "metadata": {},
   "outputs": [
    {
     "name": "stdout",
     "output_type": "stream",
     "text": [
      "0.0002694945852358563 0.0002694945852358563\n"
     ]
    }
   ],
   "source": [
    "# Raster resolution (degrees)\n",
    "\n",
    "gt = luc_open.transform\n",
    "pixelSizeX = gt[0]\n",
    "pixelSizeY =-gt[4]\n",
    "print (pixelSizeX, pixelSizeY)"
   ]
  },
  {
   "cell_type": "code",
   "execution_count": 19,
   "id": "d1c8b334-829d-40ec-8878-de0a8ed74c35",
   "metadata": {},
   "outputs": [
    {
     "data": {
      "image/png": "[encoded data removed]",
      "text/plain": [
       "<Figure size 432x288 with 1 Axes>"
      ]
     },
     "metadata": {
      "needs_background": "light"
     },
     "output_type": "display_data"
    },
    {
     "data": {
      "text/plain": [
       "<AxesSubplot:>"
      ]
     },
     "execution_count": 19,
     "metadata": {},
     "output_type": "execute_result"
    }
   ],
   "source": [
    "# Visualizing LUC ROI:\n",
    "\n",
    "show(luc_open, transform=luc_open.transform, cmap='viridis')"
   ]
  },
  {
   "cell_type": "code",
   "execution_count": 22,
   "id": "d1fac9f4-edf5-4582-92d8-3bade1202984",
   "metadata": {},
   "outputs": [
    {
     "data": {
      "text/plain": [
       "array([ 0,  3,  4,  9, 11, 12, 15, 24, 30, 33, 39, 41], dtype=uint8)"
      ]
     },
     "execution_count": 22,
     "metadata": {},
     "output_type": "execute_result"
    }
   ],
   "source": [
    "# Reading LUC ROI classes\n",
    "\n",
    "luc_roi = luc_open.read(1)\n",
    "np.unique(luc_roi)"
   ]
  },
  {
   "cell_type": "code",
   "execution_count": 25,
   "id": "062fdaa0-ed18-4805-9295-29c507f1aa31",
   "metadata": {},
   "outputs": [
    {
     "data": {
      "text/plain": [
       "(array([ 0,  3,  4,  9, 11, 12, 15, 24, 30, 33, 39, 41], dtype=uint8),\n",
       " array([842744687,     60583,      1758,        43,       159,       173,\n",
       "           257633,        36,        31,       181,      1341,     15625]))"
      ]
     },
     "execution_count": 25,
     "metadata": {},
     "output_type": "execute_result"
    }
   ],
   "source": [
    "# Counting pixels in each class\n",
    "np.unique(luc_roi, return_counts=True)"
   ]
  },
  {
   "cell_type": "code",
   "execution_count": 26,
   "id": "d91fc71a-c014-4f2a-b861-6d1df3853fdd",
   "metadata": {},
   "outputs": [],
   "source": [
    "unique, counts = np.unique(luc_roi, return_counts=True)"
   ]
  },
  {
   "cell_type": "code",
   "execution_count": null,
   "id": "148a8d34-cf70-4b0e-9bd5-c211abd99787",
   "metadata": {},
   "outputs": [],
   "source": []
  }
 ],
 "metadata": {
  "kernelspec": {
   "display_name": "Python 3 (ipykernel)",
   "language": "python",
   "name": "python3"
  },
  "language_info": {
   "codemirror_mode": {
    "name": "ipython",
    "version": 3
   },
   "file_extension": ".py",
   "mimetype": "text/x-python",
   "name": "python",
   "nbconvert_exporter": "python",
   "pygments_lexer": "ipython3",
   "version": "3.9.6"
  }
 },
 "nbformat": 4,
 "nbformat_minor": 5
}
