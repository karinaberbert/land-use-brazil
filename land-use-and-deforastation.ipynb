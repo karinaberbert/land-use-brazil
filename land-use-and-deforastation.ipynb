{
 "cells": [
  {
   "cell_type": "markdown",
   "id": "99341ea9-ba57-48e4-af38-5a1be0d4a24b",
   "metadata": {},
   "source": [
    "## Land use and cover changes under deforastation\n",
    "\n",
    "### Amazon and Cerrado Biomes"
   ]
  },
  {
   "cell_type": "code",
   "execution_count": null,
   "id": "92866d2b-3506-4a95-937a-e8e87c4c65dd",
   "metadata": {},
   "outputs": [],
   "source": [
    "# Importing Packeges\n",
    "\n",
    "import rasterio\n",
    "from rasterio.features import shapes\n",
    "from rasterio.mask import mask as mask\n",
    "from rasterio.plot import show\n",
    "from rasterio.warp import calculate_default_transform, reproject, Resampling\n",
    "from rasterio.features import shapes\n",
    "from rasterio.plot import show \n",
    "from shapely.geometry import shape\n",
    "import numpy as np\n",
    "import fiona\n",
    "import pandas as pd\n",
    "import geopandas as gpd\n",
    "import matplotlib.pyplot as plt\n",
    "import seaborn as sns\n",
    "import os\n",
    "from osgeo import gdal\n",
    "from matplotlib_scalebar.scalebar import ScaleBar\n",
    "import matplotlib.patches as mpatches\n",
    "import seaborn as sns\n",
    "\n",
    "print(f'Rasterio version: {rasterio.__version__}')\n",
    "print(f'fiona version: {fiona.__version__}')"
   ]
  },
  {
   "cell_type": "markdown",
   "id": "5c053be5-b793-4075-87be-a0a78c4e1482",
   "metadata": {},
   "source": [
    "#### Reading paths and files"
   ]
  },
  {
   "cell_type": "code",
   "execution_count": null,
   "id": "8089131a-24bb-4ca5-a7ec-2a4a29ef112c",
   "metadata": {},
   "outputs": [],
   "source": [
    "# Defining variables and paths:\n",
    "\n",
    "YEAR = 2020\n",
    "ROI = 'Agricultural-Expansion'\n",
    "\n",
    "ROI_SHAPE = \"data/desmatamento_bioma_amz_PRODES_2020.shp\"\n",
    "ROI_LUC = f\"data/LUC_mapbiomas-brazil-collection-7-matogrosso-2020-projetado-SIRGAS2000.tif\"\n",
    "\n",
    "export_tif_path_luc = f\"data/image_{YEAR}_LUC_{ROI}.tif\""
   ]
  },
  {
   "cell_type": "code",
   "execution_count": null,
   "id": "562f355d-dd0b-4b7c-9576-29978b60dc6c",
   "metadata": {},
   "outputs": [],
   "source": [
    "# Defining clip function\n",
    "\n",
    "def cropa_tif_from_shp(shp_path, tif_path, export_tif_path):\n",
    "    print(f'- Cropando {tif_path} com {shp_path}')\n",
    "    with fiona.open(shp_path, \"r\") as shapefile:\n",
    "        roi_shapes = [feature[\"geometry\"] for feature in shapefile]\n",
    "    \n",
    "    tif_open = rasterio.open(tif_path)\n",
    "    masked_tif, masked_tif_transform = rasterio.mask.mask(tif_open, roi_shapes, crop=True) \n",
    "    scar_meta = tif_open.meta\n",
    "    \n",
    "    scar_meta.update({ \n",
    "                 \"height\": masked_tif.shape[1],\n",
    "                 \"width\": masked_tif.shape[2],\n",
    "                 \"transform\": masked_tif_transform,\n",
    "                 \"nodata\": 0})\n",
    "    \n",
    "    tif_result = np.where(masked_tif==256, 0, masked_tif)\n",
    "\n",
    "    \n",
    "    print(f'Salvando em {export_tif_path}\\n')\n",
    "    with rasterio.open(export_tif_path, \"w\", **scar_meta) as dest:\n",
    "        dest.write(tif_result)"
   ]
  },
  {
   "cell_type": "code",
   "execution_count": null,
   "id": "5fe0c069-d115-405d-b096-31d36d580be5",
   "metadata": {},
   "outputs": [],
   "source": [
    "# Defining poligonize function\n",
    "\n",
    "def poligoniza(tiff_path, shp_path):\n",
    "    cmd_command = f'gdal_polygonize.py {tiff_path} {shp_path}'\n",
    "    print(f'- Poligonizando {tiff_path} -> {shp_path}')\n",
    "    os.system(cmd_command)\n",
    "    print('')"
   ]
  },
  {
   "cell_type": "code",
   "execution_count": null,
   "id": "622687bc-8f13-413b-9a7e-132e30f40a4c",
   "metadata": {},
   "outputs": [],
   "source": [
    "# Defining clip and poligonize function\n",
    "\n",
    "def cropa_e_poligoniza(input_shp_path, input_tif_path, output_shp_path):\n",
    "    crop_tif_path = output_shp_path.replace('.shp', '.tif')\n",
    "    cropa_tif_from_shp(input_shp_path, input_tif_path, crop_tif_path)\n",
    "    poligoniza(crop_tif_path, output_shp_path)"
   ]
  },
  {
   "cell_type": "code",
   "execution_count": null,
   "id": "a37eeffb-b5b6-4d98-8e51-2af34ef34a9d",
   "metadata": {},
   "outputs": [],
   "source": [
    "# Defining save file path\n",
    "\n",
    "luc_deforastation_roi_shp_path = f'data/LUC_deforastation_{YEAR}_{ROI}.shp'"
   ]
  },
  {
   "cell_type": "code",
   "execution_count": null,
   "id": "2994a6ec-30b0-4d09-833d-38e493bbc882",
   "metadata": {},
   "outputs": [],
   "source": [
    "# Cliping and poligonizing function\n",
    "\n",
    "cropa_e_poligoniza(ROI_SHAPE, ROI_LUC, luc_deforastation_roi_shp_path)"
   ]
  },
  {
   "cell_type": "code",
   "execution_count": null,
   "id": "abc56d9b-d4c8-42d8-b747-14275252cfa6",
   "metadata": {},
   "outputs": [],
   "source": [
    "# Clip function \n",
    "\n",
    "cropa_tif_from_shp(ROI_SHAPE, ROI_LUC, export_tif_path_luc)"
   ]
  },
  {
   "cell_type": "code",
   "execution_count": null,
   "id": "eb50fff2-d58e-4e0a-855f-dc892a49d332",
   "metadata": {},
   "outputs": [],
   "source": [
    "# ROI LUC\n",
    "luc_open = rasterio.open(export_tif_path_luc)\n",
    "\n",
    "# Data type:\n",
    "print(type(luc_open))\n",
    "\n",
    "# LUC ROI variable\n",
    "luc_roi = luc_open.read(1)\n",
    "print(luc_roi)"
   ]
  },
  {
   "cell_type": "code",
   "execution_count": null,
   "id": "3f71e691-0999-4df6-99c5-4e69ccb01aa1",
   "metadata": {},
   "outputs": [],
   "source": [
    "# Raster resolution (degrees)\n",
    "\n",
    "gt = luc_open.transform\n",
    "pixelSizeX = gt[0]\n",
    "pixelSizeY =-gt[4]\n",
    "print (pixelSizeX, pixelSizeY)"
   ]
  },
  {
   "cell_type": "code",
   "execution_count": null,
   "id": "d1c8b334-829d-40ec-8878-de0a8ed74c35",
   "metadata": {},
   "outputs": [],
   "source": [
    "# Visualizing LUC ROI:\n",
    "\n",
    "show(luc_open, transform=luc_open.transform, cmap='viridis')"
   ]
  },
  {
   "cell_type": "code",
   "execution_count": null,
   "id": "d1fac9f4-edf5-4582-92d8-3bade1202984",
   "metadata": {},
   "outputs": [],
   "source": [
    "# Reading LUC ROI classes\n",
    "\n",
    "luc_roi = luc_open.read(1)\n",
    "np.unique(luc_roi)"
   ]
  },
  {
   "cell_type": "code",
   "execution_count": null,
   "id": "062fdaa0-ed18-4805-9295-29c507f1aa31",
   "metadata": {},
   "outputs": [],
   "source": [
    "# Counting pixels in each class\n",
    "np.unique(luc_roi, return_counts=True)"
   ]
  },
  {
   "cell_type": "code",
   "execution_count": null,
   "id": "d91fc71a-c014-4f2a-b861-6d1df3853fdd",
   "metadata": {},
   "outputs": [],
   "source": [
    "unique, counts = np.unique(luc_roi, return_counts=True)"
   ]
  },
  {
   "cell_type": "code",
   "execution_count": null,
   "id": "50e0a03c-6d54-48f7-8401-23e2ef34ab63",
   "metadata": {},
   "outputs": [],
   "source": [
    "# NaN to 0 values\n",
    "\n",
    "luc_roi == 0\n",
    "luc_roi[luc_roi==0]\n",
    "luc_roi_float = luc_roi.astype('float')\n",
    "luc_roi_float[luc_roi_float==0] = np.nan\n",
    "luc_roi_float"
   ]
  },
  {
   "cell_type": "code",
   "execution_count": null,
   "id": "148a8d34-cf70-4b0e-9bd5-c211abd99787",
   "metadata": {},
   "outputs": [],
   "source": [
    "# Classes distribution\n",
    "\n",
    "plt.bar(luc_unique.astype('str'), luc_counts)"
   ]
  },
  {
   "cell_type": "code",
   "execution_count": null,
   "id": "56bdcbf0-70e2-41b4-87af-66cdca55ee10",
   "metadata": {},
   "outputs": [],
   "source": [
    "# Calculating area function\n",
    "\n",
    "def calcula_area_shp_ha(shp_path):\n",
    "    gdf = gpd.read_file(luc_deforastation_roi_shp_path)\n",
    "    gdf = gdf['geometry'].to_crs({'proj':'cea'}) \n",
    "    return sum(gdf.area)/10_000"
   ]
  },
  {
   "cell_type": "code",
   "execution_count": null,
   "id": "d0182fbd-6983-4aaf-8fa3-ac480ebdaccd",
   "metadata": {},
   "outputs": [],
   "source": [
    "# Total LUC Deforastation area\n",
    "\n",
    "area_LUC_ha = calcula_area_shp_ha(luc_deforastation_roi_shp_path)\n",
    "area_LUC_ha"
   ]
  },
  {
   "cell_type": "code",
   "execution_count": null,
   "id": "ef5a6fcf-363c-4ea4-965c-94e832c12a2b",
   "metadata": {},
   "outputs": [],
   "source": [
    "# Creating legend\n",
    "\n",
    "luc_legend =  {\n",
    "    '0':'Não definido',\n",
    "    '1': 'Floresta',\n",
    "    '3':'Formação Florestal',\n",
    "    '4':'Formação Savânica',\n",
    "    '9':'Silvicultura',\n",
    "    '11':'Campo Alagado e Área Pantanosa',\n",
    "    '12':'Formação Campestre',\n",
    "    '13':'Outras Formações Não Florestais',\n",
    "    '15':'Pastagem', \n",
    "    '20':'Cana-de-açúcar',\n",
    "    '21':'Mosaico de agricultura e Pastagem', \n",
    "    '24':'Área Urbanizada',\n",
    "    '25':'Outras áreas não vegetadas',\n",
    "    '29':'Afloramento Rochoso',\n",
    "    '30':'Mineração', \n",
    "    '33':'Rio, Lago e Oceano', \n",
    "    '39':'Soja', \n",
    "    '41':'Outras Lavouras Temporárias', \n",
    "    '46':'Café',\n",
    "    '48':'Outras Lavouras Perenes', \n",
    "    '62': 'Algodão'\n",
    "}\n"
   ]
  },
  {
   "cell_type": "code",
   "execution_count": null,
   "id": "f54d137a-41e4-43a2-88f5-e402ff583f1f",
   "metadata": {},
   "outputs": [],
   "source": [
    "# Legend and pixels values\n",
    "\n",
    "for id_luc in unique:\n",
    "    print(id_luc, luc_legend[str(id_luc)])"
   ]
  },
  {
   "cell_type": "code",
   "execution_count": null,
   "id": "f5d03fe8-2f19-4101-93e8-5ca85e094847",
   "metadata": {},
   "outputs": [],
   "source": [
    "# Construindo a legenda:\n",
    "\n",
    "luc_labels = [] \n",
    "for classe_luc in unique:\n",
    "    #print(classe_luc)\n",
    "    luc_labels.append(luc_legend[str(classe_luc)])\n",
    "    #print(luc_labels)"
   ]
  },
  {
   "cell_type": "code",
   "execution_count": null,
   "id": "3011d9c5-2db2-4de3-b940-df57d3edc7c1",
   "metadata": {},
   "outputs": [],
   "source": [
    "# Filtrando áreas de menor significância para aparecer no gráfico:\n",
    "\n",
    "filter_area = []\n",
    "filter_labels = []\n",
    "limite_area_ha = 1\n",
    "\n",
    "for i in range(len(area_luc)):\n",
    "    if area_luc[i]>limite_area_ha:\n",
    "        print(area_luc[i])\n",
    "        filter_area.append(area_luc[i])\n",
    "        filter_labels.append(luc_labels[i])"
   ]
  },
  {
   "cell_type": "code",
   "execution_count": null,
   "id": "8d5f6430-9ae6-45c6-b8ae-46a42c9557cf",
   "metadata": {},
   "outputs": [],
   "source": []
  }
 ],
 "metadata": {
  "kernelspec": {
   "display_name": "Python 3 (ipykernel)",
   "language": "python",
   "name": "python3"
  },
  "language_info": {
   "codemirror_mode": {
    "name": "ipython",
    "version": 3
   },
   "file_extension": ".py",
   "mimetype": "text/x-python",
   "name": "python",
   "nbconvert_exporter": "python",
   "pygments_lexer": "ipython3",
   "version": "3.9.6"
  }
 },
 "nbformat": 4,
 "nbformat_minor": 5
}
