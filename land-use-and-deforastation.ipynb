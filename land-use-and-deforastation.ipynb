{
 "cells": [
  {
   "cell_type": "markdown",
   "id": "99341ea9-ba57-48e4-af38-5a1be0d4a24b",
   "metadata": {},
   "source": [
    "## Land use and cover changes under deforastation\n",
    "\n",
    "### Amazon and Cerrado Biomes"
   ]
  },
  {
   "cell_type": "code",
   "execution_count": null,
   "id": "92866d2b-3506-4a95-937a-e8e87c4c65dd",
   "metadata": {},
   "outputs": [],
   "source": []
  }
 ],
 "metadata": {
  "kernelspec": {
   "display_name": "Python 3 (ipykernel)",
   "language": "python",
   "name": "python3"
  },
  "language_info": {
   "codemirror_mode": {
    "name": "ipython",
    "version": 3
   },
   "file_extension": ".py",
   "mimetype": "text/x-python",
   "name": "python",
   "nbconvert_exporter": "python",
   "pygments_lexer": "ipython3",
   "version": "3.9.6"
  }
 },
 "nbformat": 4,
 "nbformat_minor": 5
}
