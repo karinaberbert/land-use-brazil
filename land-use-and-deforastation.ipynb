{
 "cells": [
  {
   "cell_type": "markdown",
   "id": "99341ea9-ba57-48e4-af38-5a1be0d4a24b",
   "metadata": {},
   "source": [
    "## Land use and cover changes under deforastation\n",
    "\n",
    "### Amazon and Cerrado Biomes"
   ]
  },
  {
   "cell_type": "code",
   "execution_count": null,
   "id": "92866d2b-3506-4a95-937a-e8e87c4c65dd",
   "metadata": {},
   "outputs": [],
   "source": [
    "# Importing Packeges\n",
    "\n",
    "import rasterio\n",
    "from rasterio.features import shapes\n",
    "from rasterio.mask import mask as mask\n",
    "from rasterio.plot import show\n",
    "from rasterio.warp import calculate_default_transform, reproject, Resampling\n",
    "from rasterio.features import shapes\n",
    "from rasterio.plot import show \n",
    "from shapely.geometry import shape\n",
    "import numpy as np\n",
    "import fiona\n",
    "import pandas as pd\n",
    "import geopandas as gpd\n",
    "import matplotlib.pyplot as plt\n",
    "import seaborn as sns\n",
    "import os\n",
    "from osgeo import gdal\n",
    "from matplotlib_scalebar.scalebar import ScaleBar\n",
    "import matplotlib.patches as mpatches\n",
    "import seaborn as sns\n",
    "\n",
    "print(f'Rasterio version: {rasterio.__version__}')\n",
    "print(f'fiona version: {fiona.__version__}')"
   ]
  },
  {
   "cell_type": "markdown",
   "id": "5c053be5-b793-4075-87be-a0a78c4e1482",
   "metadata": {},
   "source": [
    "#### Reading paths and files"
   ]
  },
  {
   "cell_type": "code",
   "execution_count": null,
   "id": "8089131a-24bb-4ca5-a7ec-2a4a29ef112c",
   "metadata": {},
   "outputs": [],
   "source": [
    "# Defining variables and paths: \n",
    "YEAR = 2014\n",
    "ROI = 'Parque-Indigena-do-Xingu'\n",
    "\n",
    "ROI_SHAPE = \"data/file.shp\"\n",
    "ROI_LUC = f\"data/file.tif\"\n",
    "\n",
    "export_tif_path_luc = f\"data/image_{ANO}_LUC_{ROI}.tif\""
   ]
  },
  {
   "cell_type": "code",
   "execution_count": 1,
   "id": "562f355d-dd0b-4b7c-9576-29978b60dc6c",
   "metadata": {},
   "outputs": [],
   "source": [
    "# Defining clip function\n",
    "\n",
    "def cropa_tif_from_shp(shp_path, tif_path, export_tif_path):\n",
    "    print(f'- Cropando {tif_path} com {shp_path}')\n",
    "    with fiona.open(shp_path, \"r\") as shapefile:\n",
    "        roi_shapes = [feature[\"geometry\"] for feature in shapefile]\n",
    "    \n",
    "    tif_open = rasterio.open(tif_path)\n",
    "    masked_tif, masked_tif_transform = rasterio.mask.mask(tif_open, roi_shapes, crop=True) \n",
    "    scar_meta = tif_open.meta\n",
    "    \n",
    "    scar_meta.update({ \n",
    "                 \"height\": masked_tif.shape[1],\n",
    "                 \"width\": masked_tif.shape[2],\n",
    "                 \"transform\": masked_tif_transform,\n",
    "                 \"nodata\": 0})\n",
    "    \n",
    "    tif_result = np.where(masked_tif==256, 0, masked_tif)\n",
    "    \n",
    "    print(f'Salvando em {export_tif_path}\\n')\n",
    "    with rasterio.open(export_tif_path, \"w\", **scar_meta) as dest:\n",
    "        dest.write(tif_result)"
   ]
  },
  {
   "cell_type": "code",
   "execution_count": null,
   "id": "abc56d9b-d4c8-42d8-b747-14275252cfa6",
   "metadata": {},
   "outputs": [],
   "source": []
  }
 ],
 "metadata": {
  "kernelspec": {
   "display_name": "Python 3 (ipykernel)",
   "language": "python",
   "name": "python3"
  },
  "language_info": {
   "codemirror_mode": {
    "name": "ipython",
    "version": 3
   },
   "file_extension": ".py",
   "mimetype": "text/x-python",
   "name": "python",
   "nbconvert_exporter": "python",
   "pygments_lexer": "ipython3",
   "version": "3.9.6"
  }
 },
 "nbformat": 4,
 "nbformat_minor": 5
}
